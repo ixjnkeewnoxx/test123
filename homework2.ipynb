{
 "cells": [
  {
   "cell_type": "code",
   "execution_count": 1,
   "metadata": {
    "collapsed": true
   },
   "outputs": [],
   "source": [
    "import requests"
   ]
  },
  {
   "cell_type": "code",
   "execution_count": 2,
   "metadata": {
    "collapsed": true
   },
   "outputs": [],
   "source": [
    "from bs4 import BeautifulSoup"
   ]
  },
  {
   "cell_type": "code",
   "execution_count": 3,
   "metadata": {
    "collapsed": true
   },
   "outputs": [],
   "source": [
    "HOST = 'https://www.ptt.cc'"
   ]
  },
  {
   "cell_type": "code",
   "execution_count": 4,
   "metadata": {
    "collapsed": true
   },
   "outputs": [],
   "source": [
    "def crawl_ptt(no_pages):\n",
    "    res = requests.get(HOST + \"/bbs/SkiSnowboard/index.html\")\n",
    "    soup = BeautifulSoup(res.text, 'lxml')\n",
    "    total_page = int(soup.select('a.wide')[1]['href'].split('index')[1].split('.html')[0]) + 1\n",
    "    \n",
    "    for page in range(total_page, total_page - no_pages, -1):\n",
    "        url = HOST + \"/bbs/SkiSnowboard/index{}.html\".format(page)\n",
    "        print(url)\n",
    "        list_crawler(url)"
   ]
  },
  {
   "cell_type": "code",
   "execution_count": 6,
   "metadata": {
    "collapsed": true
   },
   "outputs": [],
   "source": [
    "\n",
    "def list_crawler(url):\n",
    "    mylist = []\n",
    "    res = requests.get(url)\n",
    "    soup = BeautifulSoup(res.text, 'lxml')\n",
    "    for tag in soup.select('div.title > a'):\n",
    "        url = HOST + tag['href'] +'\\n'\n",
    "        print(url)\n",
    "        #mylist.append(url)\n",
    "        with open('./ptt_crawler.txt','a',encoding = 'utf-8') as f:\n",
    "            f.write(url)"
   ]
  },
  {
   "cell_type": "code",
   "execution_count": 8,
   "metadata": {
    "collapsed": true
   },
   "outputs": [
    {
     "name": "stdout",
     "output_type": "stream",
     "text": [
      "https://www.ptt.cc/bbs/SkiSnowboard/index125.html\n",
      "https://www.ptt.cc/bbs/SkiSnowboard/M.1482631120.A.7CE.html\n",
      "\n",
      "https://www.ptt.cc/bbs/SkiSnowboard/M.1482654382.A.805.html\n",
      "\n",
      "https://www.ptt.cc/bbs/SkiSnowboard/M.1482672665.A.5F6.html\n",
      "\n",
      "https://www.ptt.cc/bbs/SkiSnowboard/M.1482676594.A.95B.html\n",
      "\n",
      "https://www.ptt.cc/bbs/SkiSnowboard/M.1482737502.A.03B.html\n",
      "\n",
      "https://www.ptt.cc/bbs/SkiSnowboard/M.1482738799.A.28E.html\n",
      "\n",
      "https://www.ptt.cc/bbs/SkiSnowboard/M.1482762861.A.636.html\n",
      "\n",
      "https://www.ptt.cc/bbs/SkiSnowboard/M.1482789229.A.2FE.html\n",
      "\n",
      "https://www.ptt.cc/bbs/SkiSnowboard/M.1482814915.A.C61.html\n",
      "\n",
      "https://www.ptt.cc/bbs/SkiSnowboard/M.1482829674.A.4F3.html\n",
      "\n",
      "https://www.ptt.cc/bbs/SkiSnowboard/M.1482847135.A.224.html\n",
      "\n",
      "https://www.ptt.cc/bbs/SkiSnowboard/M.1482922631.A.04A.html\n",
      "\n",
      "https://www.ptt.cc/bbs/SkiSnowboard/M.1482929851.A.8C4.html\n",
      "\n",
      "https://www.ptt.cc/bbs/SkiSnowboard/M.1482980350.A.F9D.html\n",
      "\n",
      "https://www.ptt.cc/bbs/SkiSnowboard/M.1465218737.A.FB2.html\n",
      "\n",
      "https://www.ptt.cc/bbs/SkiSnowboard/M.1476592107.A.50C.html\n",
      "\n",
      "https://www.ptt.cc/bbs/SkiSnowboard/index124.html\n",
      "https://www.ptt.cc/bbs/SkiSnowboard/M.1481982992.A.0EA.html\n",
      "\n",
      "https://www.ptt.cc/bbs/SkiSnowboard/M.1482043542.A.9F2.html\n",
      "\n",
      "https://www.ptt.cc/bbs/SkiSnowboard/M.1482058190.A.872.html\n",
      "\n",
      "https://www.ptt.cc/bbs/SkiSnowboard/M.1482161677.A.43B.html\n",
      "\n",
      "https://www.ptt.cc/bbs/SkiSnowboard/M.1482162700.A.807.html\n",
      "\n",
      "https://www.ptt.cc/bbs/SkiSnowboard/M.1482225560.A.FA5.html\n",
      "\n",
      "https://www.ptt.cc/bbs/SkiSnowboard/M.1482237371.A.CB4.html\n",
      "\n",
      "https://www.ptt.cc/bbs/SkiSnowboard/M.1482250202.A.C88.html\n",
      "\n",
      "https://www.ptt.cc/bbs/SkiSnowboard/M.1482309921.A.20C.html\n",
      "\n",
      "https://www.ptt.cc/bbs/SkiSnowboard/M.1482312528.A.3BB.html\n",
      "\n",
      "https://www.ptt.cc/bbs/SkiSnowboard/M.1482337166.A.51D.html\n",
      "\n",
      "https://www.ptt.cc/bbs/SkiSnowboard/M.1482378199.A.C01.html\n",
      "\n",
      "https://www.ptt.cc/bbs/SkiSnowboard/M.1482415993.A.C99.html\n",
      "\n",
      "https://www.ptt.cc/bbs/SkiSnowboard/M.1482475926.A.E35.html\n",
      "\n",
      "https://www.ptt.cc/bbs/SkiSnowboard/M.1482481277.A.938.html\n",
      "\n",
      "https://www.ptt.cc/bbs/SkiSnowboard/M.1482502803.A.C8B.html\n",
      "\n",
      "https://www.ptt.cc/bbs/SkiSnowboard/M.1482506718.A.878.html\n",
      "\n",
      "https://www.ptt.cc/bbs/SkiSnowboard/M.1482508922.A.41F.html\n",
      "\n",
      "https://www.ptt.cc/bbs/SkiSnowboard/M.1482545495.A.FDF.html\n",
      "\n",
      "https://www.ptt.cc/bbs/SkiSnowboard/M.1482577880.A.D10.html\n",
      "\n"
     ]
    }
   ],
   "source": [
    "crawl_ptt(2)"
   ]
  },
  {
   "cell_type": "code",
   "execution_count": 48,
   "metadata": {
    "collapsed": false
   },
   "outputs": [
    {
     "data": {
      "text/plain": [
       "[['https://www.ptt.cc/bbs/SkiSnowboard/M.1482631120.A.7CE.html',\n",
       "  'https://www.ptt.cc/bbs/SkiSnowboard/M.1482654382.A.805.html',\n",
       "  'https://www.ptt.cc/bbs/SkiSnowboard/M.1482672665.A.5F6.html',\n",
       "  'https://www.ptt.cc/bbs/SkiSnowboard/M.1482676594.A.95B.html',\n",
       "  'https://www.ptt.cc/bbs/SkiSnowboard/M.1482737502.A.03B.html',\n",
       "  'https://www.ptt.cc/bbs/SkiSnowboard/M.1482738799.A.28E.html',\n",
       "  'https://www.ptt.cc/bbs/SkiSnowboard/M.1482762861.A.636.html',\n",
       "  'https://www.ptt.cc/bbs/SkiSnowboard/M.1482789229.A.2FE.html',\n",
       "  'https://www.ptt.cc/bbs/SkiSnowboard/M.1482814915.A.C61.html',\n",
       "  'https://www.ptt.cc/bbs/SkiSnowboard/M.1482829674.A.4F3.html',\n",
       "  'https://www.ptt.cc/bbs/SkiSnowboard/M.1482847135.A.224.html',\n",
       "  'https://www.ptt.cc/bbs/SkiSnowboard/M.1465218737.A.FB2.html',\n",
       "  'https://www.ptt.cc/bbs/SkiSnowboard/M.1476592107.A.50C.html']]"
      ]
     },
     "execution_count": 48,
     "metadata": {},
     "output_type": "execute_result"
    }
   ],
   "source": [
    "pttarr = []\n",
    "pttarr.append(crawl_ptt(1))\n",
    "pttarr\n"
   ]
  },
  {
   "cell_type": "code",
   "execution_count": 13,
   "metadata": {
    "collapsed": true
   },
   "outputs": [],
   "source": [
    "def article_crawler(url):\n",
    "    res = requests.get(url)\n",
    "    soup = BeautifulSoup(res.text, 'lxml')\n",
    "    \n",
    "    article_dict = {}\n",
    "    meta_values = soup.select('span.article-meta-value')\n",
    "    article_dict['author'] = meta_values[0].text\n",
    "    article_dict['board'] = meta_values[1].text\n",
    "    article_dict['title'] = meta_values[2].text\n",
    "    article_dict['tm'] = meta_values[3].text\n",
    "    \n",
    "    pushs = []\n",
    "    for push in soup.select('div.push'):\n",
    "        push_dict = {}\n",
    "        push_spans = push.select('span')\n",
    "        push_dict['push_type'] = push_spans[0].text.strip()\n",
    "        push_dict['push_author'] = push_spans[1].text.strip()\n",
    "        push_dict['push_content'] = push_spans[2].text.split(': ')[1].strip()\n",
    "        push_dict['push_tm'] = push_spans[3].text.strip()\n",
    "        pushs.append(push_dict)\n",
    "\n",
    "    article_dict['pushs'] = pushs\n",
    "    for tag in soup.select('span.article-meta-tag'):\n",
    "        tag.extract()\n",
    "    for tag in soup.select('span.f2'):\n",
    "        tag.extract()\n",
    "    for tag in soup.select('div.push'):\n",
    "        tag.extract()\n",
    "    article_dict['content'] = soup.select_one(\"#main-content\").text.strip()\n",
    "    print(article_dict)"
   ]
  },
  {
   "cell_type": "code",
   "execution_count": 14,
   "metadata": {
    "collapsed": true
   },
   "outputs": [
    {
     "name": "stdout",
     "output_type": "stream",
     "text": [
      "https://www.ptt.cc/bbs/SkiSnowboard/index125.html\n",
      "https://www.ptt.cc/bbs/SkiSnowboard/M.1482631120.A.7CE.html\n",
      "https://www.ptt.cc/bbs/SkiSnowboard/M.1482654382.A.805.html\n",
      "https://www.ptt.cc/bbs/SkiSnowboard/M.1482672665.A.5F6.html\n",
      "https://www.ptt.cc/bbs/SkiSnowboard/M.1482676594.A.95B.html\n",
      "https://www.ptt.cc/bbs/SkiSnowboard/M.1482737502.A.03B.html\n",
      "https://www.ptt.cc/bbs/SkiSnowboard/M.1482738799.A.28E.html\n",
      "https://www.ptt.cc/bbs/SkiSnowboard/M.1482762861.A.636.html\n",
      "https://www.ptt.cc/bbs/SkiSnowboard/M.1482789229.A.2FE.html\n",
      "https://www.ptt.cc/bbs/SkiSnowboard/M.1482814915.A.C61.html\n",
      "https://www.ptt.cc/bbs/SkiSnowboard/M.1482829674.A.4F3.html\n",
      "https://www.ptt.cc/bbs/SkiSnowboard/M.1482847135.A.224.html\n",
      "https://www.ptt.cc/bbs/SkiSnowboard/M.1465218737.A.FB2.html\n",
      "https://www.ptt.cc/bbs/SkiSnowboard/M.1476592107.A.50C.html\n",
      "https://www.ptt.cc/bbs/SkiSnowboard/index124.html\n",
      "https://www.ptt.cc/bbs/SkiSnowboard/M.1481982992.A.0EA.html\n",
      "https://www.ptt.cc/bbs/SkiSnowboard/M.1482043542.A.9F2.html\n",
      "https://www.ptt.cc/bbs/SkiSnowboard/M.1482058190.A.872.html\n",
      "https://www.ptt.cc/bbs/SkiSnowboard/M.1482161677.A.43B.html\n",
      "https://www.ptt.cc/bbs/SkiSnowboard/M.1482162700.A.807.html\n",
      "https://www.ptt.cc/bbs/SkiSnowboard/M.1482225560.A.FA5.html\n",
      "https://www.ptt.cc/bbs/SkiSnowboard/M.1482237371.A.CB4.html\n",
      "https://www.ptt.cc/bbs/SkiSnowboard/M.1482250202.A.C88.html\n",
      "https://www.ptt.cc/bbs/SkiSnowboard/M.1482309921.A.20C.html\n",
      "https://www.ptt.cc/bbs/SkiSnowboard/M.1482312528.A.3BB.html\n",
      "https://www.ptt.cc/bbs/SkiSnowboard/M.1482337166.A.51D.html\n",
      "https://www.ptt.cc/bbs/SkiSnowboard/M.1482378199.A.C01.html\n",
      "https://www.ptt.cc/bbs/SkiSnowboard/M.1482415993.A.C99.html\n",
      "https://www.ptt.cc/bbs/SkiSnowboard/M.1482475926.A.E35.html\n",
      "https://www.ptt.cc/bbs/SkiSnowboard/M.1482481277.A.938.html\n",
      "https://www.ptt.cc/bbs/SkiSnowboard/M.1482502803.A.C8B.html\n",
      "https://www.ptt.cc/bbs/SkiSnowboard/M.1482506718.A.878.html\n",
      "https://www.ptt.cc/bbs/SkiSnowboard/M.1482508922.A.41F.html\n",
      "https://www.ptt.cc/bbs/SkiSnowboard/M.1482545495.A.FDF.html\n",
      "https://www.ptt.cc/bbs/SkiSnowboard/M.1482577880.A.D10.html\n",
      "https://www.ptt.cc/bbs/SkiSnowboard/index123.html\n",
      "https://www.ptt.cc/bbs/SkiSnowboard/M.1481426726.A.0B0.html\n",
      "https://www.ptt.cc/bbs/SkiSnowboard/M.1481459940.A.DDB.html\n",
      "https://www.ptt.cc/bbs/SkiSnowboard/M.1481469434.A.B3F.html\n",
      "https://www.ptt.cc/bbs/SkiSnowboard/M.1481512015.A.47F.html\n",
      "https://www.ptt.cc/bbs/SkiSnowboard/M.1481537220.A.525.html\n",
      "https://www.ptt.cc/bbs/SkiSnowboard/M.1481555823.A.856.html\n",
      "https://www.ptt.cc/bbs/SkiSnowboard/M.1481565106.A.548.html\n",
      "https://www.ptt.cc/bbs/SkiSnowboard/M.1481565306.A.05D.html\n",
      "https://www.ptt.cc/bbs/SkiSnowboard/M.1481584691.A.18C.html\n",
      "https://www.ptt.cc/bbs/SkiSnowboard/M.1481588359.A.A65.html\n",
      "https://www.ptt.cc/bbs/SkiSnowboard/M.1481612352.A.131.html\n",
      "https://www.ptt.cc/bbs/SkiSnowboard/M.1481635208.A.59D.html\n",
      "https://www.ptt.cc/bbs/SkiSnowboard/M.1481639334.A.E32.html\n",
      "https://www.ptt.cc/bbs/SkiSnowboard/M.1481691753.A.A49.html\n",
      "https://www.ptt.cc/bbs/SkiSnowboard/M.1481733894.A.34A.html\n",
      "https://www.ptt.cc/bbs/SkiSnowboard/M.1481782606.A.CA9.html\n",
      "https://www.ptt.cc/bbs/SkiSnowboard/M.1481811048.A.78C.html\n",
      "https://www.ptt.cc/bbs/SkiSnowboard/M.1481822197.A.C1C.html\n",
      "https://www.ptt.cc/bbs/SkiSnowboard/M.1481896924.A.1ED.html\n",
      "https://www.ptt.cc/bbs/SkiSnowboard/M.1481981756.A.7CA.html\n",
      "https://www.ptt.cc/bbs/SkiSnowboard/index122.html\n",
      "https://www.ptt.cc/bbs/SkiSnowboard/M.1480676345.A.DDC.html\n",
      "https://www.ptt.cc/bbs/SkiSnowboard/M.1480750742.A.FBF.html\n",
      "https://www.ptt.cc/bbs/SkiSnowboard/M.1480862727.A.8E5.html\n",
      "https://www.ptt.cc/bbs/SkiSnowboard/M.1480894881.A.187.html\n",
      "https://www.ptt.cc/bbs/SkiSnowboard/M.1480909128.A.ABF.html\n",
      "https://www.ptt.cc/bbs/SkiSnowboard/M.1480911198.A.DAB.html\n",
      "https://www.ptt.cc/bbs/SkiSnowboard/M.1480951334.A.564.html\n",
      "https://www.ptt.cc/bbs/SkiSnowboard/M.1481004880.A.9F6.html\n",
      "https://www.ptt.cc/bbs/SkiSnowboard/M.1481017519.A.183.html\n",
      "https://www.ptt.cc/bbs/SkiSnowboard/M.1481076636.A.917.html\n",
      "https://www.ptt.cc/bbs/SkiSnowboard/M.1481093612.A.AB8.html\n",
      "https://www.ptt.cc/bbs/SkiSnowboard/M.1481104451.A.236.html\n",
      "https://www.ptt.cc/bbs/SkiSnowboard/M.1481196215.A.C9A.html\n",
      "https://www.ptt.cc/bbs/SkiSnowboard/M.1481199717.A.449.html\n",
      "https://www.ptt.cc/bbs/SkiSnowboard/M.1481208692.A.7BA.html\n",
      "https://www.ptt.cc/bbs/SkiSnowboard/M.1481211065.A.2E2.html\n",
      "https://www.ptt.cc/bbs/SkiSnowboard/M.1481239139.A.8E2.html\n",
      "https://www.ptt.cc/bbs/SkiSnowboard/M.1481257476.A.2F6.html\n",
      "https://www.ptt.cc/bbs/SkiSnowboard/M.1481363356.A.94F.html\n",
      "https://www.ptt.cc/bbs/SkiSnowboard/M.1481376142.A.5CF.html\n",
      "https://www.ptt.cc/bbs/SkiSnowboard/index121.html\n",
      "https://www.ptt.cc/bbs/SkiSnowboard/M.1480031260.A.205.html\n",
      "https://www.ptt.cc/bbs/SkiSnowboard/M.1480066026.A.C01.html\n",
      "https://www.ptt.cc/bbs/SkiSnowboard/M.1480088609.A.506.html\n",
      "https://www.ptt.cc/bbs/SkiSnowboard/M.1480091662.A.3AC.html\n",
      "https://www.ptt.cc/bbs/SkiSnowboard/M.1480126030.A.9D2.html\n",
      "https://www.ptt.cc/bbs/SkiSnowboard/M.1480164753.A.1D2.html\n",
      "https://www.ptt.cc/bbs/SkiSnowboard/M.1480168042.A.A2E.html\n",
      "https://www.ptt.cc/bbs/SkiSnowboard/M.1480230278.A.B6B.html\n",
      "https://www.ptt.cc/bbs/SkiSnowboard/M.1480399017.A.EB3.html\n",
      "https://www.ptt.cc/bbs/SkiSnowboard/M.1480424634.A.788.html\n",
      "https://www.ptt.cc/bbs/SkiSnowboard/M.1480426167.A.F94.html\n",
      "https://www.ptt.cc/bbs/SkiSnowboard/M.1480441281.A.E3B.html\n",
      "https://www.ptt.cc/bbs/SkiSnowboard/M.1480482543.A.792.html\n",
      "https://www.ptt.cc/bbs/SkiSnowboard/M.1480499051.A.836.html\n",
      "https://www.ptt.cc/bbs/SkiSnowboard/M.1480508440.A.9B5.html\n",
      "https://www.ptt.cc/bbs/SkiSnowboard/M.1480510558.A.224.html\n",
      "https://www.ptt.cc/bbs/SkiSnowboard/M.1480511968.A.156.html\n",
      "https://www.ptt.cc/bbs/SkiSnowboard/M.1480518023.A.0FD.html\n",
      "https://www.ptt.cc/bbs/SkiSnowboard/M.1480604075.A.24D.html\n",
      "https://www.ptt.cc/bbs/SkiSnowboard/M.1480651106.A.D5B.html\n"
     ]
    }
   ],
   "source": [
    "crawl_ptt(5)"
   ]
  },
  {
   "cell_type": "code",
   "execution_count": 23,
   "metadata": {
    "collapsed": true
   },
   "outputs": [
    {
     "name": "stdout",
     "output_type": "stream",
     "text": [
      "https://www.ptt.cc/bbs/SkiSnowboard/index125.html\n",
      "https://www.ptt.cc/bbs/SkiSnowboard/M.1482631120.A.7CE.html\n",
      "https://www.ptt.cc/bbs/SkiSnowboard/M.1482654382.A.805.html\n",
      "https://www.ptt.cc/bbs/SkiSnowboard/M.1482672665.A.5F6.html\n",
      "https://www.ptt.cc/bbs/SkiSnowboard/M.1482676594.A.95B.html\n",
      "https://www.ptt.cc/bbs/SkiSnowboard/M.1482737502.A.03B.html\n",
      "https://www.ptt.cc/bbs/SkiSnowboard/M.1482738799.A.28E.html\n",
      "https://www.ptt.cc/bbs/SkiSnowboard/M.1482762861.A.636.html\n",
      "https://www.ptt.cc/bbs/SkiSnowboard/M.1482789229.A.2FE.html\n",
      "https://www.ptt.cc/bbs/SkiSnowboard/M.1482814915.A.C61.html\n",
      "https://www.ptt.cc/bbs/SkiSnowboard/M.1482829674.A.4F3.html\n",
      "https://www.ptt.cc/bbs/SkiSnowboard/M.1482847135.A.224.html\n",
      "https://www.ptt.cc/bbs/SkiSnowboard/M.1465218737.A.FB2.html\n",
      "https://www.ptt.cc/bbs/SkiSnowboard/M.1476592107.A.50C.html\n"
     ]
    },
    {
     "data": {
      "text/plain": [
       "NoneType"
      ]
     },
     "execution_count": 23,
     "metadata": {},
     "output_type": "execute_result"
    }
   ],
   "source": [
    "type(crawl_ptt(1))"
   ]
  },
  {
   "cell_type": "code",
   "execution_count": 69,
   "metadata": {
    "collapsed": false
   },
   "outputs": [
    {
     "ename": "SyntaxError",
     "evalue": "invalid syntax (<ipython-input-69-10c0c89b6dfc>, line 2)",
     "output_type": "error",
     "traceback": [
      "\u001b[0;36m  File \u001b[0;32m\"<ipython-input-69-10c0c89b6dfc>\"\u001b[0;36m, line \u001b[0;32m2\u001b[0m\n\u001b[0;31m    for i in range(2)\u001b[0m\n\u001b[0m                     ^\u001b[0m\n\u001b[0;31mSyntaxError\u001b[0m\u001b[0;31m:\u001b[0m invalid syntax\n"
     ]
    }
   ],
   "source": [
    "with open('./ptt_crawler.txt','a',encoding = 'utf-8') as f:\n",
    "    for i in range(2)\n",
    "        f.write(crawl_ptt(1)[0])"
   ]
  }
 ],
 "metadata": {
  "anaconda-cloud": {},
  "kernelspec": {
   "display_name": "Python [conda root]",
   "language": "python",
   "name": "conda-root-py"
  },
  "language_info": {
   "codemirror_mode": {
    "name": "ipython",
    "version": 3
   },
   "file_extension": ".py",
   "mimetype": "text/x-python",
   "name": "python",
   "nbconvert_exporter": "python",
   "pygments_lexer": "ipython3",
   "version": "3.5.2"
  }
 },
 "nbformat": 4,
 "nbformat_minor": 1
}
